{
 "cells": [
  {
   "cell_type": "code",
   "execution_count": 3,
   "id": "7b65b834",
   "metadata": {},
   "outputs": [
    {
     "name": "stdout",
     "output_type": "stream",
     "text": [
      "masukan jumlah kategori : 3\n",
      "masukan nama kaegori : fps\n",
      "masukan 5 nama aplikasi di kategori  fps\n",
      "masukan nama aplikasi : csgo\n",
      "masukan nama aplikasi : valo\n",
      "masukan nama aplikasi : cookingfever\n",
      "masukan nama aplikasi : cod\n",
      "masukan nama aplikasi : pubg\n",
      "masukan nama kaegori : rpg\n",
      "masukan 5 nama aplikasi di kategori  rpg\n",
      "masukan nama aplikasi : cookingfever\n",
      "masukan nama aplikasi : genshin\n",
      "masukan nama aplikasi : wicher\n",
      "masukan nama aplikasi : ragnarok\n",
      "masukan nama aplikasi : epep\n",
      "masukan nama kaegori : game bocah\n",
      "masukan 5 nama aplikasi di kategori  game bocah\n",
      "masukan nama aplikasi : epep\n",
      "masukan nama aplikasi : genshin\n",
      "masukan nama aplikasi : cookingfever\n",
      "masukan nama aplikasi : cod\n",
      "masukan nama aplikasi : rr\n",
      "{'fps': ['csgo', 'valo', 'cookingfever', 'cod', 'pubg'], 'rpg': ['cookingfever', 'genshin', 'wicher', 'ragnarok', 'epep'], 'game bocah': ['epep', 'genshin', 'cookingfever', 'cod', 'rr']}\n",
      "\n",
      "[{'valo', 'csgo', 'cod', 'cookingfever', 'pubg'}, {'cookingfever', 'wicher', 'genshin', 'ragnarok', 'epep'}, {'rr', 'cod', 'cookingfever', 'genshin', 'epep'}]\n",
      "\n",
      "\n",
      "apllikasi yang hanya muncul di satu kategori saja:  {'valo', 'csgo', 'rr', 'pubg', 'epep', 'genshin'}\n",
      "\n",
      "aplikasi yang muncul di dua kategori sekaligus: {'rr', 'cod', 'cookingfever', 'genshin', 'epep'}\n"
     ]
    }
   ],
   "source": [
    "#latihan mandiri 12.1\n",
    "inkatagori = int(input(\"masukan jumlah kategori : \"))\n",
    "data_apk = {}\n",
    "\n",
    "for i in range(inkatagori):\n",
    "    nama_kategori = input(\"masukan nama kaegori : \")\n",
    "    print(\"masukan 5 nama aplikasi di kategori \", nama_kategori)\n",
    "    apk = list()\n",
    "    \n",
    "    for j in range(5):\n",
    "        nama_apk = input(\"masukan nama aplikasi : \")\n",
    "        apk.append(nama_apk)\n",
    "    data_apk[nama_kategori] = apk\n",
    "print(data_apk)\n",
    "print()\n",
    "\n",
    "daftar_apk_1st = list()\n",
    "for apk in data_apk.values():\n",
    "    daftar_apk_1st.append(set(apk))\n",
    "print(daftar_apk_1st)\n",
    "print()\n",
    "\n",
    "hasil = daftar_apk_1st\n",
    "for x in range(1,inkatagori):\n",
    "    unik = daftar_apk_1st[i] ^ daftar_apk_1st[i-1]\n",
    "else:\n",
    "    unik = daftar_apk_1st[0] ^ daftar_apk_1st[i]\n",
    "print()\n",
    "print(\"apllikasi yang hanya muncul di satu kategori saja: \", unik)\n",
    "\n",
    "print()\n",
    "if inkatagori > 2:\n",
    "    for y in range(1,inkatagori):\n",
    "        inter = daftar_apk_1st[i] and daftar_apk_1st[i-1]\n",
    "    else:\n",
    "        inter = daftar_apk_1st[0] and daftar_apk_1st[i]\n",
    "    print(\"aplikasi yang muncul di dua kategori sekaligus:\", inter)"
   ]
  },
  {
   "cell_type": "code",
   "execution_count": 4,
   "id": "e30837ec",
   "metadata": {},
   "outputs": [
    {
     "name": "stdout",
     "output_type": "stream",
     "text": [
      "masukan kalimat :saya suka makan ikan ayam ayam\n",
      "list ke set\n",
      "sebelum -> ['s', 'a', 'y', 'a', ' ', 's', 'u', 'k', 'a', ' ', 'm', 'a', 'k', 'a', 'n', ' ', 'i', 'k', 'a', 'n', ' ', 'a', 'y', 'a', 'm', ' ', 'a', 'y', 'a', 'm']\n",
      "sesudah -> {'u', 'a', 'y', 'n', 's', ' ', 'k', 'i', 'm'}\n",
      "\n",
      "set ke list\n",
      "sebelum ->  ['s', 'a', 'y', 'a', ' ', 's', 'u', 'k', 'a', ' ', 'm', 'a', 'k', 'a', 'n', ' ', 'i', 'k', 'a', 'n', ' ', 'a', 'y', 'a', 'm', ' ', 'a', 'y', 'a', 'm']\n",
      "sesudah ->  ['u', 'a', 'y', 'n', 's', ' ', 'k', 'i', 'm']\n",
      "\n",
      "tuple ke set\n",
      "sebelum ->  ('s', 'a', 'y', 'a', ' ', 's', 'u', 'k', 'a', ' ', 'm', 'a', 'k', 'a', 'n', ' ', 'i', 'k', 'a', 'n', ' ', 'a', 'y', 'a', 'm', ' ', 'a', 'y', 'a', 'm')\n",
      "sesudah ->  {'u', 'a', 'y', 'n', 's', ' ', 'k', 'i', 'm'}\n",
      "\n",
      "set ke tuple\n",
      "sebelum ->  {'u', 'a', 'y', 'n', 's', ' ', 'k', 'i', 'm'}\n",
      "sesudah ->  ('u', 'a', 'y', 'n', 's', ' ', 'k', 'i', 'm')\n"
     ]
    }
   ],
   "source": [
    "#lathian manriri 12.2\n",
    "data = input(\"masukan kalimat :\")\n",
    "data_list = list(data)\n",
    "print(\"list ke set\")\n",
    "print(\"sebelum ->\",data_list)\n",
    "print(\"sesudah ->\", set(data_list))\n",
    "print()\n",
    "data_set = set(data)\n",
    "print(\"set ke list\")\n",
    "print(\"sebelum -> \", data_list)\n",
    "print(\"sesudah -> \", list(data_set))\n",
    "print()\n",
    "data_tuple = tuple(data)\n",
    "print(\"tuple ke set\")\n",
    "print(\"sebelum -> \", data_tuple)\n",
    "print(\"sesudah -> \", set(data_tuple))\n",
    "print()\n",
    "print(\"set ke tuple\")\n",
    "print(\"sebelum -> \",data_set)\n",
    "print(\"sesudah -> \", tuple(data_set))"
   ]
  },
  {
   "cell_type": "code",
   "execution_count": 1,
   "id": "80629a7d",
   "metadata": {},
   "outputs": [
    {
     "name": "stdout",
     "output_type": "stream",
     "text": [
      "Masukkan file teks 1: teks1.txt\n",
      "Masukkan file teks 2: teks2.txt\n",
      "{'gajah', 'bunga', 'minuman', 'putih-putih', 'delima', 'hati', 'nama', 'saya', 'melihat', 'buah', 'bermain', 'merah-merah', 'bagaimana', 'mata', 'hobi', 'makanan', 'adalah', 'kesukaan', 'melati', 'geli', 'tak'}\n"
     ]
    }
   ],
   "source": [
    "#lathian mandiri 12.3\n",
    "teks1 = input(\"Masukkan file teks 1: \")\n",
    "teks2 = input(\"Masukkan file teks 2: \")\n",
    "try:\n",
    "    handle = open(teks1, 'r')\n",
    "    handle2 = open(teks2, 'r')\n",
    "except:\n",
    "    print(\"File cannot be opened\")\n",
    "    exit()\n",
    "a = set()\n",
    "\n",
    "for teks in handle:\n",
    "    tekslow = teks.lower()\n",
    "    tekspl = tekslow.split()\n",
    "    for b in tekspl:\n",
    "        a.add(b)\n",
    "for teks in handle2:\n",
    "    tekslow = teks.lower()\n",
    "    tekspl = tekslow.split()\n",
    "    for b in tekspl:\n",
    "        a.add(b)\n",
    "print(a)"
   ]
  },
  {
   "cell_type": "code",
   "execution_count": null,
   "id": "c6ff7590",
   "metadata": {},
   "outputs": [],
   "source": []
  }
 ],
 "metadata": {
  "kernelspec": {
   "display_name": "Python 3 (ipykernel)",
   "language": "python",
   "name": "python3"
  },
  "language_info": {
   "codemirror_mode": {
    "name": "ipython",
    "version": 3
   },
   "file_extension": ".py",
   "mimetype": "text/x-python",
   "name": "python",
   "nbconvert_exporter": "python",
   "pygments_lexer": "ipython3",
   "version": "3.11.5"
  }
 },
 "nbformat": 4,
 "nbformat_minor": 5
}
